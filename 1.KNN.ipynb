{
 "cells": [
  {
   "cell_type": "code",
   "execution_count": 1,
   "metadata": {},
   "outputs": [],
   "source": [
    "import numpy as np\n",
    "import matplotlib.pyplot as plt\n",
    "\n",
    "import CorrectnessMetricUtils as cmu\n",
    "import ErrorMetricsUtils as emu\n",
    "from AuxUtils import train_test_split, normalize, minkowski_distance, standardize, cross_val_split\n",
    "from PriorUtils import KNN\n",
    "\n",
    "from csv import reader\n",
    "from random import seed\n",
    "from random import randrange\n",
    "\n",
    "# Get CSV file\n",
    "def get_csv(filename):\n",
    "    dataset = list()\n",
    "    with open(filename, 'r') as file:\n",
    "        data = reader(file)\n",
    "        for row in data:\n",
    "            if not row:\n",
    "                continue\n",
    "            dataset.append(row)\n",
    "    return dataset\n",
    "\n",
    "# String to float columnwise\n",
    "def str_to_float_col(dataset, col):\n",
    "    for row in dataset:\n",
    "        row[col] = float(row[col].strip())"
   ]
  },
  {
   "cell_type": "code",
   "execution_count": 2,
   "metadata": {},
   "outputs": [],
   "source": [
    "seed(1)\n",
    "filename = 'bc.csv'\n",
    "dataset = get_csv(filename)\n",
    "dataset.remove(dataset[0])\n",
    "for i in range(len(dataset[0])):\n",
    "    str_to_float_col(dataset, i)\n",
    "dataset = np.asarray(dataset)\n",
    "featureset = np.delete(dataset, 3, axis=1)\n",
    "target = dataset.T[3]"
   ]
  },
  {
   "cell_type": "code",
   "execution_count": 3,
   "metadata": {},
   "outputs": [
    {
     "name": "stdout",
     "output_type": "stream",
     "text": [
      "Mean Train Accuracy: 0.8717857142857144\n",
      "Mean Test Accuracy: 0.7957142857142857\n",
      "Mean Precision: 0.7722633650502502\n",
      "Mean Recall: 0.7778976333726665\n",
      "Mean F1 score: 0.7725298055916847\n",
      "Mean Specificity: 0.8150940353179159\n"
     ]
    }
   ],
   "source": [
    "x = normalize(standardize(featureset))\n",
    "y = target\n",
    "obs_label = 1\n",
    "train_accuracy = list()\n",
    "test_accuracy = list()\n",
    "Pscores = list()\n",
    "Rscores = list()\n",
    "Fscores = list()\n",
    "Sscores = list()\n",
    "for i in range(5):\n",
    "    x_train, x_test, y_train, y_test = cross_val_split(x, y, 5)[i]\n",
    "    model_knn = KNN(k=10)\n",
    "    y_test_hat = model_knn.predict(x_test, x_train, y_train)\n",
    "    y_train_hat = model_knn.predict(x_train, x_train, y_train)\n",
    "    train_accuracy.append(cmu.accuracy_calc(y_train, y_train_hat))\n",
    "    test_accuracy.append(cmu.accuracy_calc(y_test, y_test_hat))\n",
    "    Pscores.append(cmu.precision_calc(obs_label, y_test, y_test_hat))\n",
    "    Rscores.append(cmu.recall_calc(obs_label, y_test, y_test_hat))\n",
    "    Fscores.append(cmu.f1_calc(obs_label, y_test, y_test_hat))\n",
    "    Sscores.append(cmu.specificity_calc(obs_label,y_test, y_test_hat))\n",
    "print(\"Mean Train Accuracy:\", np.mean(train_accuracy))\n",
    "print(\"Mean Test Accuracy:\", np.mean(test_accuracy))\n",
    "print(\"Mean Precision:\", np.mean(Pscores))\n",
    "print(\"Mean Recall:\", np.mean(Rscores))\n",
    "print(\"Mean F1 score:\", np.mean(Fscores))\n",
    "print(\"Mean Specificity:\", np.mean(Sscores))"
   ]
  },
  {
   "cell_type": "code",
   "execution_count": 4,
   "metadata": {},
   "outputs": [
    {
     "data": {
      "image/png": "[encoded data removed]",
      "text/plain": [
       "<Figure size 432x288 with 1 Axes>"
      ]
     },
     "metadata": {
      "needs_background": "light"
     },
     "output_type": "display_data"
    }
   ],
   "source": [
    "x = normalize(standardize(featureset))\n",
    "y = target\n",
    "obs_label = 1\n",
    "TPR = list()\n",
    "FPR = list()\n",
    "k = 1\n",
    "while(k<(len(dataset))/50):\n",
    "    Rscores = list()\n",
    "    Sscores = list()\n",
    "    for i in range(5):\n",
    "        x_train, x_test, y_train, y_test = cross_val_split(x, y, 5)[i]\n",
    "        model_knn = KNN(k)\n",
    "        y_test_hat = model_knn.predict(x_test, x_train, y_train)\n",
    "        Rscores.append(cmu.recall_calc(obs_label, y_test, y_test_hat))\n",
    "        Sscores.append(cmu.specificity_calc(obs_label,y_test, y_test_hat))\n",
    "    TPR.append(np.mean(Rscores))\n",
    "    FPR.append(1-np.mean(Sscores))\n",
    "    k += 1\n",
    "\n",
    "#plotting ROC\n",
    "\n",
    "auc = np.trapz(TPR, FPR)\n",
    "plt.plot(FPR, TPR, 'b:')\n",
    "plt.plot([0, 1], [0, 1],'r--')\n",
    "plt.figtext(0.7,0.2,'AUC = %0.2f' % auc)\n",
    "plt.title('ROC for KNN')\n",
    "plt.xlabel('FPR')\n",
    "plt.ylabel('TPR')\n",
    "plt.xlim(-0.1,1.1)\n",
    "plt.ylim(-0.1,1.1)\n",
    "plt.draw()\n",
    "plt.show()"
   ]
  }
 ],
 "metadata": {
  "kernelspec": {
   "display_name": "Python 3",
   "language": "python",
   "name": "python3"
  },
  "language_info": {
   "codemirror_mode": {
    "name": "ipython",
    "version": 3
   },
   "file_extension": ".py",
   "mimetype": "text/x-python",
   "name": "python",
   "nbconvert_exporter": "python",
   "pygments_lexer": "ipython3",
   "version": "3.7.6"
  }
 },
 "nbformat": 4,
 "nbformat_minor": 4
}
