{
 "cells": [
  {
   "cell_type": "code",
   "execution_count": 1,
   "metadata": {},
   "outputs": [],
   "source": [
    "import numpy as np\n",
    "import matplotlib.pyplot as plt\n",
    "\n",
    "import CorrectnessMetricUtils as cmu\n",
    "import ErrorMetricsUtils as emu\n",
    "from AuxUtils import train_test_split, normalize, minkowski_distance, standardize, cross_val_split\n",
    "from PriorUtils import KNN\n",
    "\n",
    "from csv import reader\n",
    "from random import seed\n",
    "from random import randrange\n",
    "\n",
    "# Get CSV file\n",
    "def get_csv(filename):\n",
    "    dataset = list()\n",
    "    with open(filename, 'r') as file:\n",
    "        data = reader(file)\n",
    "        for row in data:\n",
    "            if not row:\n",
    "                continue\n",
    "            dataset.append(row)\n",
    "    return dataset\n",
    "\n",
    "# String to float columnwise\n",
    "def str_to_float_col(dataset, col):\n",
    "    for row in dataset:\n",
    "        row[col] = float(row[col].strip())"
   ]
  },
  {
   "cell_type": "code",
   "execution_count": 2,
   "metadata": {},
   "outputs": [],
   "source": [
    "seed(1)\n",
    "filename = 'bc.csv'\n",
    "dataset = get_csv(filename)\n",
    "dataset.remove(dataset[0])\n",
    "for i in range(len(dataset[0])):\n",
    "    str_to_float_col(dataset, i)\n",
    "dataset = np.asarray(dataset)\n",
    "featureset = np.delete(dataset, 3, axis=1)\n",
    "target = dataset.T[3]"
   ]
  },
  {
   "cell_type": "code",
   "execution_count": 3,
   "metadata": {},
   "outputs": [
    {
     "name": "stdout",
     "output_type": "stream",
     "text": [
      "Train Accuracy: 0.8767857142857143\n",
      "Test Accuracy: 0.7714285714285715\n"
     ]
    }
   ],
   "source": [
    "x = normalize(standardize(featureset))\n",
    "y = target\n",
    "x_train, x_test, y_train, y_test = train_test_split(x, y, test_size=0.2)\n",
    "\n",
    "model_knn = KNN(k=5)\n",
    "y_test_hat = model_knn.predict(x_test, x_train, y_train)\n",
    "y_train_hat = model_knn.predict(x_train, x_train, y_train)\n",
    "\n",
    "test_accuracy = cmu.accuracy_calc(y_test, y_test_hat)\n",
    "train_accuracy = cmu.accuracy_calc(y_train, y_train_hat)\n",
    "\n",
    "print (\"Train Accuracy:\", train_accuracy)\n",
    "print (\"Test Accuracy:\", test_accuracy)"
   ]
  },
  {
   "cell_type": "code",
   "execution_count": 4,
   "metadata": {},
   "outputs": [
    {
     "name": "stdout",
     "output_type": "stream",
     "text": [
      "Train Accuracy: 0.8710714285714285\n",
      "Test Accuracy: 0.8\n"
     ]
    }
   ],
   "source": [
    "train_accuracy = list()\n",
    "test_accuracy = list()\n",
    "for i in range(5):\n",
    "    x_train, x_test, y_train, y_test = cross_val_split(x, y, 5)[i]\n",
    "    model_knn = KNN(k=5)\n",
    "    y_test_hat = model_knn.predict(x_test, x_train, y_train)\n",
    "    y_train_hat = model_knn.predict(x_train, x_train, y_train)\n",
    "    train_accuracy.append(cmu.accuracy_calc(y_train, y_train_hat))\n",
    "    test_accuracy.append(cmu.accuracy_calc(y_test, y_test_hat))\n",
    "print(\"Train Accuracy:\", np.mean(train_accuracy))\n",
    "print(\"Test Accuracy:\", np.mean(test_accuracy))"
   ]
  },
  {
   "cell_type": "code",
   "execution_count": null,
   "metadata": {},
   "outputs": [],
   "source": []
  }
 ],
 "metadata": {
  "kernelspec": {
   "display_name": "Python 3",
   "language": "python",
   "name": "python3"
  },
  "language_info": {
   "codemirror_mode": {
    "name": "ipython",
    "version": 3
   },
   "file_extension": ".py",
   "mimetype": "text/x-python",
   "name": "python",
   "nbconvert_exporter": "python",
   "pygments_lexer": "ipython3",
   "version": "3.7.6"
  }
 },
 "nbformat": 4,
 "nbformat_minor": 4
}
