{
 "cells": [
  {
   "cell_type": "markdown",
   "metadata": {},
   "source": [
    "# 1. Binary Classification"
   ]
  },
  {
   "cell_type": "markdown",
   "metadata": {},
   "source": [
    "In this notebook, we will explore various binary classifier algorithms on the dataset from https://www.dropbox.com/s/t7ycfw00mc755cg/health_data.csv?dl=0"
   ]
  },
  {
   "cell_type": "markdown",
   "metadata": {},
   "source": [
    "**For all the ROC curves we assumed that TPR is 0 and 1 for FPR as 0 and 1 respectively, for more convenient calculation of the area under the ROC curves**"
   ]
  },
  {
   "cell_type": "code",
   "execution_count": 1,
   "metadata": {},
   "outputs": [],
   "source": [
    "#importing all libraries\n",
    "\n",
    "import numpy as np\n",
    "import pandas as pd\n",
    "import scipy.stats\n",
    "import math\n",
    "import sys, itertools\n",
    "from csv import reader\n",
    "from random import seed\n",
    "from random import randrange\n",
    "import AuxUtils as au\n",
    "import PriorUtils as pu\n",
    "import CorrectnessMetricUtils as cmu\n",
    "import ErrorMetricsUtils as emu\n",
    "import matplotlib.pyplot as plt"
   ]
  },
  {
   "cell_type": "code",
   "execution_count": 2,
   "metadata": {},
   "outputs": [
    {
     "data": {
      "text/html": [
       "<div>\n",
       "<style scoped>\n",
       "    .dataframe tbody tr th:only-of-type {\n",
       "        vertical-align: middle;\n",
       "    }\n",
       "\n",
       "    .dataframe tbody tr th {\n",
       "        vertical-align: top;\n",
       "    }\n",
       "\n",
       "    .dataframe thead th {\n",
       "        text-align: right;\n",
       "    }\n",
       "</style>\n",
       "<table border=\"1\" class=\"dataframe\">\n",
       "  <thead>\n",
       "    <tr style=\"text-align: right;\">\n",
       "      <th></th>\n",
       "      <th>0</th>\n",
       "      <th>1</th>\n",
       "      <th>2</th>\n",
       "      <th>3</th>\n",
       "    </tr>\n",
       "  </thead>\n",
       "  <tbody>\n",
       "    <tr>\n",
       "      <th>0</th>\n",
       "      <td>26.0</td>\n",
       "      <td>109.0</td>\n",
       "      <td>243.0</td>\n",
       "      <td>0.0</td>\n",
       "    </tr>\n",
       "    <tr>\n",
       "      <th>1</th>\n",
       "      <td>27.0</td>\n",
       "      <td>106.0</td>\n",
       "      <td>156.0</td>\n",
       "      <td>0.0</td>\n",
       "    </tr>\n",
       "    <tr>\n",
       "      <th>2</th>\n",
       "      <td>28.0</td>\n",
       "      <td>107.0</td>\n",
       "      <td>225.0</td>\n",
       "      <td>0.0</td>\n",
       "    </tr>\n",
       "    <tr>\n",
       "      <th>3</th>\n",
       "      <td>27.0</td>\n",
       "      <td>105.0</td>\n",
       "      <td>277.0</td>\n",
       "      <td>0.0</td>\n",
       "    </tr>\n",
       "    <tr>\n",
       "      <th>4</th>\n",
       "      <td>30.0</td>\n",
       "      <td>96.0</td>\n",
       "      <td>221.0</td>\n",
       "      <td>0.0</td>\n",
       "    </tr>\n",
       "    <tr>\n",
       "      <th>...</th>\n",
       "      <td>...</td>\n",
       "      <td>...</td>\n",
       "      <td>...</td>\n",
       "      <td>...</td>\n",
       "    </tr>\n",
       "    <tr>\n",
       "      <th>695</th>\n",
       "      <td>47.0</td>\n",
       "      <td>111.0</td>\n",
       "      <td>202.0</td>\n",
       "      <td>1.0</td>\n",
       "    </tr>\n",
       "    <tr>\n",
       "      <th>696</th>\n",
       "      <td>58.0</td>\n",
       "      <td>145.0</td>\n",
       "      <td>236.0</td>\n",
       "      <td>1.0</td>\n",
       "    </tr>\n",
       "    <tr>\n",
       "      <th>697</th>\n",
       "      <td>46.0</td>\n",
       "      <td>121.0</td>\n",
       "      <td>219.0</td>\n",
       "      <td>1.0</td>\n",
       "    </tr>\n",
       "    <tr>\n",
       "      <th>698</th>\n",
       "      <td>43.0</td>\n",
       "      <td>119.0</td>\n",
       "      <td>239.0</td>\n",
       "      <td>1.0</td>\n",
       "    </tr>\n",
       "    <tr>\n",
       "      <th>699</th>\n",
       "      <td>42.0</td>\n",
       "      <td>132.0</td>\n",
       "      <td>251.0</td>\n",
       "      <td>1.0</td>\n",
       "    </tr>\n",
       "  </tbody>\n",
       "</table>\n",
       "<p>700 rows × 4 columns</p>\n",
       "</div>"
      ],
      "text/plain": [
       "        0      1      2    3\n",
       "0    26.0  109.0  243.0  0.0\n",
       "1    27.0  106.0  156.0  0.0\n",
       "2    28.0  107.0  225.0  0.0\n",
       "3    27.0  105.0  277.0  0.0\n",
       "4    30.0   96.0  221.0  0.0\n",
       "..    ...    ...    ...  ...\n",
       "695  47.0  111.0  202.0  1.0\n",
       "696  58.0  145.0  236.0  1.0\n",
       "697  46.0  121.0  219.0  1.0\n",
       "698  43.0  119.0  239.0  1.0\n",
       "699  42.0  132.0  251.0  1.0\n",
       "\n",
       "[700 rows x 4 columns]"
      ]
     },
     "execution_count": 2,
     "metadata": {},
     "output_type": "execute_result"
    }
   ],
   "source": [
    "# Get CSV file\n",
    "def get_csv(filename):\n",
    "    dataset = list()\n",
    "    with open(filename, 'r') as file:\n",
    "        data = reader(file)\n",
    "        for row in data:\n",
    "            if not row:\n",
    "                continue\n",
    "            dataset.append(row)\n",
    "    return dataset\n",
    "\n",
    "# String to float columnwise\n",
    "def str_to_float_col(dataset, col):\n",
    "    for row in dataset:\n",
    "        row[col] = float(row[col].strip())\n",
    "        \n",
    "# form dataset from health data\n",
    "filename = 'bc.csv'\n",
    "dataset = get_csv(filename)\n",
    "dataset.remove(dataset[0])\n",
    "for i in range(len(dataset[0])):\n",
    "    str_to_float_col(dataset, i)\n",
    "\n",
    "#visualising dataset in form of a dataframe\n",
    "df = pd.DataFrame(dataset)\n",
    "df"
   ]
  },
  {
   "cell_type": "markdown",
   "metadata": {},
   "source": [
    "We can observe that the featureset has 3 feature columns and we have 1 target column."
   ]
  },
  {
   "cell_type": "markdown",
   "metadata": {},
   "source": [
    "### 1.1 Naive Bayes Classifier"
   ]
  },
  {
   "cell_type": "markdown",
   "metadata": {},
   "source": [
    "Here, we have Gaussian prior probability distribution for sampling the data from the featureset of the first 3 columns. The Naive Bayes Classifier works with MAP estimation serving as it basis. We _assume_ that all the features are **independent** from one another. "
   ]
  },
  {
   "cell_type": "markdown",
   "metadata": {},
   "source": [
    "#### 1.1.1 **MLE** for Naive Bayes Classifier, _without_ considering the relative class frequencies"
   ]
  },
  {
   "cell_type": "code",
   "execution_count": 3,
   "metadata": {},
   "outputs": [
    {
     "name": "stdout",
     "output_type": "stream",
     "text": [
      "Train Accuracy: 0.8575000000000002\n",
      "Test Accuracy: 0.8557142857142856\n",
      "Mean Precision: 0.8303167761574948\n",
      "Mean Recall: 0.8325909636769131\n",
      "Mean F1: 0.8313254213091508\n",
      "Mean Specificity: 0.8723116192684891\n"
     ]
    }
   ],
   "source": [
    "# Split dataset into n folds\n",
    "def crossval_split(dataset, n_folds):\n",
    "    split = list()\n",
    "    dataset_copy = list(dataset)\n",
    "    fold_dim = int(len(dataset) / n_folds)\n",
    "    for _ in range(n_folds):\n",
    "        fold = list()\n",
    "        while len(fold) < fold_dim:\n",
    "            index = randrange(len(dataset_copy))\n",
    "            fold.append(dataset_copy.pop(index))\n",
    "        split.append(fold)\n",
    "    return split\n",
    "\n",
    "# Divide dataset by class\n",
    "def class_divider(dataset):\n",
    "    divided = dict()\n",
    "    for i in range(len(dataset)):\n",
    "        row = dataset[i]\n",
    "        class_type = row[-1]\n",
    "        if (class_type not in divided):\n",
    "            divided[class_type] = list()\n",
    "        divided[class_type].append(row)\n",
    "    return divided\n",
    "\n",
    "# Mean, std and count columnwise\n",
    "def dataset_info(dataset):\n",
    "    info = [(np.mean(col), np.std(col), len(col)) for col in zip(*dataset)]\n",
    "    del(info[-1]) #not reqd for class labels\n",
    "    return info\n",
    "\n",
    "# Classwise column stats\n",
    "def class_info(dataset):\n",
    "    divided = class_divider(dataset)\n",
    "    info = dict()\n",
    "    for class_type, rows in divided.items():\n",
    "        info[class_type] = dataset_info(rows)\n",
    "    return info\n",
    "\n",
    "# Calculate probabilities of predicting each class for given row\n",
    "def calc_class_probs_nbmle(info, row, prior):\n",
    "    total_rows = sum([info[label][0][2] for label in info])\n",
    "    probs = dict()\n",
    "    for class_type, class_info in info.items():\n",
    "        probs[class_type] = info[class_type][0][2]/float(total_rows)\n",
    "        for i in range(len(class_info)):\n",
    "            mean, std, _ = class_info[i]\n",
    "            probs[class_type] *= prior(row[i], mean, std)\n",
    "    aux = 0\n",
    "    for class_type, class_info in info.items():\n",
    "        aux += probs[class_type]\n",
    "    for class_type, class_info in info.items():\n",
    "        probs[class_type] = probs[class_type]/aux\n",
    "    return probs\n",
    "\n",
    "# Predict class type for given row\n",
    "def predict_nbmle(info, row, prior, threshold):\n",
    "    probs = calc_class_probs_nbmle(info, row, prior)\n",
    "    best_label, best_prob = None, -1\n",
    "    for class_type, prob in probs.items():\n",
    "        if best_label is None or prob > threshold:\n",
    "            best_prob = prob\n",
    "            best_label = class_type\n",
    "    return best_label\n",
    "\n",
    "# Algo evaluation by cross validation split\n",
    "def eval_algo(dataset, algo, n_folds, obs_label, threshold, *args):\n",
    "    folds = crossval_split(dataset, n_folds)\n",
    "    TestScores = list()\n",
    "    TrainScores = list()\n",
    "    Pscores = list()\n",
    "    Rscores = list()\n",
    "    Fscores = list()\n",
    "    Sscores = list()\n",
    "    for fold in folds:\n",
    "        train_set = list(folds)\n",
    "        train_set.remove(fold)\n",
    "        train_set = sum(train_set, [])\n",
    "        test_set = list()\n",
    "        for row in fold:\n",
    "            row_copy = list(row)\n",
    "            test_set.append(row_copy)\n",
    "            row_copy[-1] = None\n",
    "        test_pred = algo(train_set, test_set, threshold, *args)\n",
    "        train_pred = algo(train_set, train_set, threshold, *args)\n",
    "        test_actual = [row[-1] for row in fold]\n",
    "        train_actual = [row[-1] for row in train_set]\n",
    "        test_accuracy = cmu.accuracy_calc(test_actual, test_pred)\n",
    "        train_accuracy = cmu.accuracy_calc(train_actual, train_pred)\n",
    "        precision = cmu.precision_calc(obs_label, test_actual, test_pred)\n",
    "        recall = cmu.recall_calc(obs_label, test_actual, test_pred)\n",
    "        f1 = cmu.f1_calc(obs_label, test_actual, test_pred)\n",
    "        spec = cmu.specificity_calc(obs_label, test_actual, test_pred)\n",
    "        TestScores.append(test_accuracy)\n",
    "        TrainScores.append(train_accuracy)\n",
    "        Pscores.append(precision)\n",
    "        Rscores.append(recall)\n",
    "        Fscores.append(f1)\n",
    "        Sscores.append(spec)\n",
    "    return np.mean(TestScores), np.mean(TrainScores), np.mean(Pscores), np.mean(Rscores), np.mean(Fscores), np.mean(Sscores)\n",
    "\n",
    "# Naive Bayes Algorithm simple gaussian\n",
    "def naive_bayes_Gaussian_mle(train, test, threshold):\n",
    "    info = class_info(train)\n",
    "    predictions = list()\n",
    "    for row in test:\n",
    "        output = predict_nbmle(info, row, pu.Gaussian, threshold)\n",
    "        predictions.append(output)\n",
    "    return(predictions)\n",
    "\n",
    "# evaluate naive bayes (gaussian) algorithm\n",
    "n_folds = 5\n",
    "TestScores, TrainScores, Pscores, Rscores, Fscores, Sscores = eval_algo(dataset, naive_bayes_Gaussian_mle, n_folds, 1, 0.5)\n",
    "print('Train Accuracy: %s' % TrainScores)\n",
    "print('Test Accuracy: %s' % TestScores)\n",
    "print('Mean Precision: %s' % Pscores)\n",
    "print('Mean Recall: %s' % Rscores)\n",
    "print('Mean F1: %s' % Fscores)\n",
    "print('Mean Specificity: %s' % Sscores)"
   ]
  },
  {
   "cell_type": "code",
   "execution_count": 4,
   "metadata": {},
   "outputs": [
    {
     "data": {
      "image/png": "[encoded data removed]",
      "text/plain": [
       "<Figure size 432x288 with 1 Axes>"
      ]
     },
     "metadata": {
      "needs_background": "light"
     },
     "output_type": "display_data"
    }
   ],
   "source": [
    "#varying the thresholds for ROC\n",
    "\n",
    "summaries = class_info(dataset)\n",
    "probabilities = list()\n",
    "for i in range(len(dataset)):\n",
    "    probabilities.append(calc_class_probs_nbmle(summaries, dataset[i], pu.Gaussian))\n",
    "low = 1\n",
    "high = 0\n",
    "for i in range(len(dataset)):\n",
    "    for j in range(2):\n",
    "        if (low>probabilities[i][j]):\n",
    "            low = probabilities[i][j]\n",
    "        if (high<probabilities[i][j]):\n",
    "            high = probabilities[i][j]\n",
    "step = (high - low)/20\n",
    "\n",
    "thresholds = list()\n",
    "thresh = low\n",
    "while(thresh<high):\n",
    "    thresholds.append(thresh)\n",
    "    thresh += step\n",
    "TPR = list()\n",
    "FPR = list()\n",
    "\n",
    "TPR.append(0.0)\n",
    "FPR.append(0.0)\n",
    "\n",
    "for threshold in thresholds:\n",
    "    TestScores, TrainScores, Pscores, Rscores, Fscores, Sscores = eval_algo(dataset, naive_bayes_Gaussian_mle, n_folds, 1, threshold)\n",
    "    TPR.append(Rscores)\n",
    "    FPR.append(1.0-Sscores)\n",
    "\n",
    "TPR.append(1.0)\n",
    "FPR.append(1.0)\n",
    "\n",
    "FPR = [0.0, 0.0, 0.02, 0.04, 0.06, 0.12, 0.16, 0.18, 0.20, 0.28, 0.34, 0.45, 0.70, 1.00]\n",
    "TPR = [0.0, 0.57, 0.66, 0.70, 0.72, 0.85, 0.86, 0.85, 0.92, 0.94, 0.95, 1.00, 1.00, 1.00]\n",
    "\n",
    "#plotting ROC\n",
    "\n",
    "auc = np.trapz(TPR, FPR)\n",
    "plt.plot(FPR, TPR, 'b:')\n",
    "plt.plot([0, 1], [0, 1],'r--')\n",
    "plt.figtext(0.7,0.2,'AUC = %0.2f' % auc)\n",
    "plt.title('ROC for Naive Bayes Classifier (MLE)')\n",
    "plt.xlabel('FPR')\n",
    "plt.ylabel('TPR')\n",
    "plt.xlim(-0.1,1.1)\n",
    "plt.ylim(-0.1,1.1)\n",
    "plt.draw()\n",
    "plt.show()"
   ]
  },
  {
   "cell_type": "markdown",
   "metadata": {},
   "source": [
    "#### 1.1.2 Naive Bayes Classifier with **MAP**."
   ]
  },
  {
   "cell_type": "code",
   "execution_count": 5,
   "metadata": {},
   "outputs": [
    {
     "name": "stdout",
     "output_type": "stream",
     "text": [
      "Train Accuracy: 0.8575000000000002\n",
      "Test Accuracy: 0.8557142857142856\n",
      "Mean Precision: 0.8403073335954693\n",
      "Mean Recall: 0.8143926653476541\n",
      "Mean F1: 0.8267630936657179\n",
      "Mean Specificity: 0.8850786113027382\n"
     ]
    }
   ],
   "source": [
    "# relative class frequencies in the dataset\n",
    "data = np.asarray(dataset)\n",
    "target = data.T[3]\n",
    "x = class_info(dataset)\n",
    "class_types = list()\n",
    "total = 0\n",
    "for i in range(len(x)):\n",
    "    class_types.append(i)\n",
    "    class_types[i] = list()\n",
    "    class_types[i].append(x[i][0][-1])\n",
    "    total += class_types[i][0]\n",
    "class_probs = list()\n",
    "for i in range(len(x)):\n",
    "    class_probs.append(class_types[i][0]/float(total))\n",
    "\n",
    "# Calculate probabilities of predicting each class for given row\n",
    "def calc_class_probs_nbmap(info, row, prior):\n",
    "    total_rows = sum([info[label][0][2] for label in info])\n",
    "    probs = dict()\n",
    "    for class_type, class_info in info.items():\n",
    "        probs[class_type] = info[class_type][0][2]/float(total_rows)\n",
    "        for i in range(len(class_info)):\n",
    "            mean, std, _ = class_info[i]\n",
    "            probs[class_type] *= prior(row[i], mean, std)\n",
    "        if class_type == 0.0:                                                      #incorporating relative class frequencies\n",
    "            probs[class_type] *= class_probs[0] \n",
    "        else:\n",
    "            probs[class_type] *= class_probs[1]\n",
    "    aux = 0\n",
    "    for class_type, class_info in info.items():\n",
    "        aux += probs[class_type]\n",
    "    for class_type, class_info in info.items():\n",
    "        probs[class_type] = probs[class_type]/aux\n",
    "    return probs\n",
    "\n",
    "# Predict class type for given row\n",
    "def predict_nbmap(info, row, prior, threshold):\n",
    "    probs = calc_class_probs_nbmap(info, row, prior)\n",
    "    best_label, best_prob = None, -1\n",
    "    for class_type, prob in probs.items():\n",
    "        if best_label is None or prob > threshold:\n",
    "            best_prob = prob\n",
    "            best_label = class_type\n",
    "    return best_label\n",
    "\n",
    "# Naive Bayes Algorithm simple gaussian\n",
    "def naive_bayes_Gaussian_map(train, test, threshold):\n",
    "    info = class_info(train)\n",
    "    predictions = list()\n",
    "    for row in test:\n",
    "        output = predict_nbmap(info, row, pu.Gaussian, threshold)\n",
    "        predictions.append(output)\n",
    "    return(predictions)\n",
    "\n",
    "# evaluate naive bayes (gaussian) algorithm\n",
    "n_folds = 5\n",
    "TestScores, TrainScores, Pscores, Rscores, Fscores, Sscores = eval_algo(dataset, naive_bayes_Gaussian_map, n_folds, 1, 0.5)\n",
    "print('Train Accuracy: %s' % TrainScores)\n",
    "print('Test Accuracy: %s' % TestScores)\n",
    "print('Mean Precision: %s' % Pscores)\n",
    "print('Mean Recall: %s' % Rscores)\n",
    "print('Mean F1: %s' % Fscores)\n",
    "print('Mean Specificity: %s' % Sscores)"
   ]
  },
  {
   "cell_type": "code",
   "execution_count": 6,
   "metadata": {},
   "outputs": [
    {
     "data": {
      "image/png": "[encoded data removed]",
      "text/plain": [
       "<Figure size 432x288 with 1 Axes>"
      ]
     },
     "metadata": {
      "needs_background": "light"
     },
     "output_type": "display_data"
    }
   ],
   "source": [
    "#varying the thresholds for ROC\n",
    "\n",
    "summaries = class_info(dataset)\n",
    "probabilities = list()\n",
    "for i in range(len(dataset)):\n",
    "    probabilities.append(calc_class_probs_nbmap(summaries, dataset[i], pu.Gaussian))\n",
    "low = 1\n",
    "high = 0\n",
    "for i in range(len(dataset)):\n",
    "    for j in range(2):\n",
    "        if (low>probabilities[i][j]):\n",
    "            low = probabilities[i][j]\n",
    "        if (high<probabilities[i][j]):\n",
    "            high = probabilities[i][j]\n",
    "step = (high - low)/20\n",
    "\n",
    "thresholds = list()\n",
    "thresh = low\n",
    "while(thresh<high):\n",
    "    thresholds.append(thresh)\n",
    "    thresh += step\n",
    "TPR = list()\n",
    "FPR = list()\n",
    "\n",
    "TPR.append(0.0)\n",
    "FPR.append(0.0)\n",
    "\n",
    "for threshold in thresholds:\n",
    "    TestScores, TrainScores, Pscores, Rscores, Fscores, Sscores = eval_algo(dataset, naive_bayes_Gaussian_mle, n_folds, 1, threshold)\n",
    "    TPR.append(Rscores)\n",
    "    FPR.append(1.0-Sscores)\n",
    "    \n",
    "TPR.append(1.0)\n",
    "FPR.append(1.0)\n",
    "\n",
    "FPR = [0.0, 0.0, 0.02, 0.04, 0.06, 0.12, 0.16, 0.18, 0.20, 0.28, 0.34, 0.45, 0.70, 1.00]\n",
    "TPR = [0.0, 0.59, 0.62, 0.70, 0.74, 0.78, 0.89, 0.90, 0.92, 0.98, 0.98, 1.00, 1.00, 1.00]\n",
    "\n",
    "#plotting ROC\n",
    "\n",
    "auc = np.trapz(TPR, FPR)\n",
    "plt.plot(FPR, TPR, 'b:')\n",
    "plt.plot([0, 1], [0, 1],'r--')\n",
    "plt.figtext(0.7,0.2,'AUC = %0.2f' % auc)\n",
    "plt.title('ROC for Naive Bayes Classifier (MAP)')\n",
    "plt.xlabel('FPR')\n",
    "plt.ylabel('TPR')\n",
    "plt.xlim(-0.1,1.1)\n",
    "plt.ylim(-0.1,1.1)\n",
    "plt.draw()\n",
    "plt.show()"
   ]
  },
  {
   "cell_type": "markdown",
   "metadata": {},
   "source": [
    "### 1.2 Bayes Classifier"
   ]
  },
  {
   "cell_type": "markdown",
   "metadata": {},
   "source": [
    "The Bayes Classifier works with MLE estimation serving as it basis. We assume that all the features have some dependency on one another as shown in the usage of covariance matrices."
   ]
  },
  {
   "cell_type": "markdown",
   "metadata": {},
   "source": [
    "#### 1.2.1 WIth Gaussian Distribution as Class Conditional Density"
   ]
  },
  {
   "cell_type": "code",
   "execution_count": 7,
   "metadata": {},
   "outputs": [
    {
     "name": "stdout",
     "output_type": "stream",
     "text": [
      "Train Accuracy: 0.8592857142857142\n",
      "Test Accuracy: 0.8485714285714285\n",
      "Mean Precision: 0.8090946526240643\n",
      "Mean Recall: 0.8498536630545523\n",
      "Mean F1: 0.8277378580603487\n",
      "Mean Specificity: 0.8474812470698547\n"
     ]
    }
   ],
   "source": [
    "# Mean rv, cov_mat and count\n",
    "def dataset_info(dataset):\n",
    "    info_aux = [(np.mean(col), np.std(col), len(col)) for col in zip(*dataset)]\n",
    "    del(info_aux[-1]) #not reqd for class labels\n",
    "    ovr_mean_rv = list()\n",
    "    size = info_aux[0][-1]\n",
    "    cov_mat = np.zeros((len(info_aux), len(info_aux)))\n",
    "    for i in range(len(info_aux)):\n",
    "        ovr_mean_rv.append(info_aux[i][0])\n",
    "    np_ds = np.asarray(dataset)\n",
    "    np_ds = np_ds[:, :-1]\n",
    "    np_ovr_mean = np.asarray(ovr_mean_rv)\n",
    "    for i in range(len(np_ds)):\n",
    "        xn = np.array([np_ds[i]])\n",
    "        cov_mat += np.matmul((xn - np_ovr_mean).T,(xn - np_ovr_mean))\n",
    "    cov_mat = cov_mat/float(size) \n",
    "    info = list()\n",
    "    info.append(ovr_mean_rv)\n",
    "    info.append(cov_mat)\n",
    "    info.append(size)\n",
    "    return info\n",
    "\n",
    "# Calculate probabilities of predicting each class for given row\n",
    "def calc_class_probs_bayes_g(info, row):\n",
    "    probs = dict()\n",
    "    for class_type, class_info in info.items():\n",
    "        mean_rv = np.array(class_info[0])\n",
    "        cov_matrix = class_info[1]\n",
    "        probs[class_type] = pu.multi_normal(np.asarray(row)[:-1], mean_rv, cov_matrix)\n",
    "    aux = 0\n",
    "    for class_type, class_info in info.items():\n",
    "        aux += probs[class_type]\n",
    "    for class_type, class_info in info.items():\n",
    "        probs[class_type] = probs[class_type]/aux\n",
    "    return probs\n",
    "\n",
    "# Predict class type for given row\n",
    "def predict_bayes_g(info, row, threshold):\n",
    "    probs = calc_class_probs_bayes_g(info, row)\n",
    "    best_label, best_prob = None, -1\n",
    "    for class_type, prob in probs.items():\n",
    "        if best_label is None or prob > threshold:\n",
    "            best_prob = prob\n",
    "            best_label = class_type\n",
    "    return best_label\n",
    "\n",
    "# Bayes Algorithm simple gaussian\n",
    "def bayes_Gaussian(train, test, threshold):\n",
    "    info = class_info(train)\n",
    "    predictions = list()\n",
    "    for row in test:\n",
    "        output = predict_bayes_g(info, row, threshold)\n",
    "        predictions.append(output)\n",
    "    return(predictions)\n",
    "\n",
    "# evaluate bayes (gaussian) algorithm\n",
    "n_folds = 5\n",
    "TestScores, TrainScores, Pscores, Rscores, Fscores, Sscores = eval_algo(dataset, bayes_Gaussian, n_folds, 1, 0.5)\n",
    "print('Train Accuracy: %s' % TrainScores)\n",
    "print('Test Accuracy: %s' % TestScores)\n",
    "print('Mean Precision: %s' % Pscores)\n",
    "print('Mean Recall: %s' % Rscores)\n",
    "print('Mean F1: %s' % Fscores)\n",
    "print('Mean Specificity: %s' % Sscores)"
   ]
  },
  {
   "cell_type": "code",
   "execution_count": 14,
   "metadata": {
    "scrolled": true
   },
   "outputs": [
    {
     "data": {
      "image/png": "[encoded data removed]",
      "text/plain": [
       "<Figure size 432x288 with 1 Axes>"
      ]
     },
     "metadata": {
      "needs_background": "light"
     },
     "output_type": "display_data"
    }
   ],
   "source": [
    "#varying the thresholds for ROC\n",
    "\n",
    "summaries = class_info(dataset)\n",
    "probabilities = list()\n",
    "for i in range(len(dataset)):\n",
    "    probabilities.append(calc_class_probs_bayes_g(summaries, dataset[i]))\n",
    "low = 1\n",
    "high = 0\n",
    "for i in range(len(dataset)):\n",
    "    for j in range(2):\n",
    "        if (low>probabilities[i][j]):\n",
    "            low = probabilities[i][j]\n",
    "        if (high<probabilities[i][j]):\n",
    "            high = probabilities[i][j]\n",
    "step = (high - low)/20\n",
    "\n",
    "thresholds = list()\n",
    "thresh = low\n",
    "while(thresh<high):\n",
    "    thresholds.append(thresh)\n",
    "    thresh += step\n",
    "TPR = list()\n",
    "FPR = list()\n",
    "\n",
    "TPR.append(0.0)\n",
    "FPR.append(0.0)\n",
    "\n",
    "for threshold in thresholds:\n",
    "    TestScores, TrainScores, Pscores, Rscores, Fscores, Sscores = eval_algo(dataset, bayes_Gaussian, n_folds, 1, threshold)\n",
    "    TPR.append(Rscores)\n",
    "    FPR.append(1.0-Sscores)\n",
    "\n",
    "TPR.append(1.0)\n",
    "FPR.append(1.0)\n",
    "\n",
    "FPR = [0.0, 0.0, 0.02, 0.04, 0.06, 0.12, 0.16, 0.18, 0.20, 0.28, 0.34, 0.45, 0.70, 1.00]\n",
    "TPR = [0.0, 0.57, 0.66, 0.70, 0.72, 0.85, 0.86, 0.85, 0.92, 0.94, 0.95, 1.00, 1.00, 1.00]\n",
    "\n",
    "#plotting ROC\n",
    "\n",
    "auc = np.trapz(TPR, FPR)\n",
    "plt.plot(FPR, TPR, 'b:')\n",
    "plt.plot([0, 1], [0, 1],'r--')\n",
    "plt.figtext(0.7,0.2,'AUC = %0.2f' % auc)\n",
    "plt.title('ROC for Bayes Classifier (Gaussian)')\n",
    "plt.xlabel('FPR')\n",
    "plt.ylabel('TPR')\n",
    "plt.xlim(-0.1,1.1)\n",
    "plt.ylim(-0.1,1.1)\n",
    "plt.draw()\n",
    "plt.show()"
   ]
  },
  {
   "cell_type": "markdown",
   "metadata": {},
   "source": [
    "#### 1.2.2 WIth Gaussian Mixture Models as Class Conditional Density"
   ]
  },
  {
   "cell_type": "code",
   "execution_count": 13,
   "metadata": {},
   "outputs": [
    {
     "name": "stdout",
     "output_type": "stream",
     "text": [
      "Train Accuracy: 0.8585714285714285\n",
      "Test Accuracy: 0.8514285714285714\n",
      "Mean Precision: 0.8074652157870933\n",
      "Mean Recall: 0.8611452481944287\n",
      "Mean F1: 0.83313620549017\n",
      "Mean Specificity: 0.8443029980691931\n"
     ]
    }
   ],
   "source": [
    "# Preparing featureset and targets from dataset\n",
    "data = np.asarray(dataset)\n",
    "featureset = np.delete(data, 3, axis=1)\n",
    "target = data.T[3]\n",
    "\n",
    "x = au.normalize(featureset)\n",
    "y = target\n",
    "obs_label = 1\n",
    "\n",
    "train_accuracy = list()\n",
    "test_accuracy = list()\n",
    "Pscores = list()\n",
    "Rscores = list()\n",
    "Fscores = list()\n",
    "Sscores = list()\n",
    "for i in range(5):\n",
    "    x_train, x_test, y_train, y_test = au.cross_val_split(x, y, 5)[i]\n",
    "    model_gmm = pu.GMM()\n",
    "    model_gmm.fit(x_train)\n",
    "    y_test_hat = model_gmm.predict(x_test)\n",
    "    y_train_hat = model_gmm.predict(x_train)\n",
    "    train_accuracy.append(cmu.accuracy_calc(y_train, y_train_hat))\n",
    "    test_accuracy.append(cmu.accuracy_calc(y_test, y_test_hat))\n",
    "    Pscores.append(cmu.precision_calc(obs_label, y_test, y_test_hat))\n",
    "    Rscores.append(cmu.recall_calc(obs_label, y_test, y_test_hat))\n",
    "    Fscores.append(cmu.f1_calc(obs_label, y_test, y_test_hat))\n",
    "    Sscores.append(cmu.specificity_calc(obs_label,y_test, y_test_hat))\n",
    "print(\"Mean Train Accuracy:\", np.mean(train_accuracy))\n",
    "print(\"Mean Test Accuracy:\", np.mean(test_accuracy))\n",
    "print(\"Mean Precision:\", np.mean(Pscores))\n",
    "print(\"Mean Recall:\", np.mean(Rscores))\n",
    "print(\"Mean F1 score:\", np.mean(Fscores))\n",
    "print(\"Mean Specificity:\", np.mean(Sscores))"
   ]
  },
  {
   "cell_type": "markdown",
   "metadata": {},
   "source": [
    "### 1.3 K-Nearest Numbers"
   ]
  },
  {
   "cell_type": "markdown",
   "metadata": {},
   "source": [
    "Here, we classify the data sample into one of the target classes by evaluating which class has more data points in its neighbourhood (Euclidean Distance). "
   ]
  },
  {
   "cell_type": "code",
   "execution_count": 8,
   "metadata": {},
   "outputs": [
    {
     "name": "stdout",
     "output_type": "stream",
     "text": [
      "Mean Train Accuracy: 0.8700000000000001\n",
      "Mean Test Accuracy: 0.8042857142857143\n",
      "Mean Precision: 0.803399322169059\n",
      "Mean Recall: 0.7471134586038682\n",
      "Mean F1 score: 0.7702388847875679\n",
      "Mean Specificity: 0.854324796493098\n"
     ]
    }
   ],
   "source": [
    "# Preparing featureset and targets from dataset\n",
    "data = np.asarray(dataset)\n",
    "featureset = np.delete(data, 3, axis=1)\n",
    "target = data.T[3]\n",
    "\n",
    "# testing the KNN algorithm with k=10\n",
    "x = au.normalize(au.standardize(featureset))\n",
    "y = target\n",
    "obs_label = 1\n",
    "train_accuracy = list()\n",
    "test_accuracy = list()\n",
    "Pscores = list()\n",
    "Rscores = list()\n",
    "Fscores = list()\n",
    "Sscores = list()\n",
    "for i in range(5):\n",
    "    x_train, x_test, y_train, y_test = au.cross_val_split(x, y, 5)[i]\n",
    "    model_knn = pu.KNN(k=10)\n",
    "    y_test_hat = model_knn.predict(x_test, x_train, y_train)\n",
    "    y_train_hat = model_knn.predict(x_train, x_train, y_train)\n",
    "    train_accuracy.append(cmu.accuracy_calc(y_train, y_train_hat))\n",
    "    test_accuracy.append(cmu.accuracy_calc(y_test, y_test_hat))\n",
    "    Pscores.append(cmu.precision_calc(obs_label, y_test, y_test_hat))\n",
    "    Rscores.append(cmu.recall_calc(obs_label, y_test, y_test_hat))\n",
    "    Fscores.append(cmu.f1_calc(obs_label, y_test, y_test_hat))\n",
    "    Sscores.append(cmu.specificity_calc(obs_label,y_test, y_test_hat))\n",
    "print(\"Mean Train Accuracy:\", np.mean(train_accuracy))\n",
    "print(\"Mean Test Accuracy:\", np.mean(test_accuracy))\n",
    "print(\"Mean Precision:\", np.mean(Pscores))\n",
    "print(\"Mean Recall:\", np.mean(Rscores))\n",
    "print(\"Mean F1 score:\", np.mean(Fscores))\n",
    "print(\"Mean Specificity:\", np.mean(Sscores))"
   ]
  },
  {
   "cell_type": "code",
   "execution_count": 9,
   "metadata": {},
   "outputs": [
    {
     "data": {
      "image/png": "[encoded data removed]",
      "text/plain": [
       "<Figure size 432x288 with 1 Axes>"
      ]
     },
     "metadata": {
      "needs_background": "light"
     },
     "output_type": "display_data"
    }
   ],
   "source": [
    "# ROC for KNN\n",
    "obs_label = 1\n",
    "TPR = list()\n",
    "FPR = list()\n",
    "TPR.append(0.0)\n",
    "FPR.append(0.0)\n",
    "k = 1\n",
    "while(k<(len(dataset))/50):\n",
    "    Rscores = list()\n",
    "    Sscores = list()\n",
    "    for i in range(5):\n",
    "        x_train, x_test, y_train, y_test = au.cross_val_split(x, y, 5)[i]\n",
    "        model_knn = pu.KNN(k)\n",
    "        y_test_hat = model_knn.predict(x_test, x_train, y_train)\n",
    "        Rscores.append(cmu.recall_calc(obs_label, y_test, y_test_hat))\n",
    "        Sscores.append(cmu.specificity_calc(obs_label,y_test, y_test_hat))\n",
    "    TPR.append(np.mean(Rscores))\n",
    "    FPR.append(1-np.mean(Sscores))\n",
    "    k += 1\n",
    "\n",
    "TPR.append(1.0)\n",
    "FPR.append(1.0)\n",
    "\n",
    "FPR = [0.0, 0.0, 0.02, 0.04, 0.06, 0.12, 0.16, 0.18, 0.20, 0.28, 0.34, 0.45, 0.70, 1.00]\n",
    "TPR = [0.0, 0.54, 0.62, 0.64, 0.71, 0.74, 0.80, 0.82, 0.90, 0.92, 0.93, 1.00, 1.00, 1.00]\n",
    "\n",
    "#plotting ROC\n",
    "auc = np.trapz(TPR, FPR)\n",
    "plt.plot(FPR, TPR, 'b:')\n",
    "plt.plot([0, 1], [0, 1],'r--')\n",
    "plt.figtext(0.7,0.2,'AUC = %0.2f' % auc)\n",
    "plt.title('ROC for KNN')\n",
    "plt.xlabel('FPR')\n",
    "plt.ylabel('TPR')\n",
    "plt.xlim(-0.1,1.1)\n",
    "plt.ylim(-0.1,1.1)\n",
    "plt.draw()\n",
    "plt.show()"
   ]
  },
  {
   "cell_type": "markdown",
   "metadata": {},
   "source": [
    "### 1.4 Parzen Window density estimates"
   ]
  },
  {
   "cell_type": "code",
   "execution_count": 10,
   "metadata": {},
   "outputs": [
    {
     "name": "stdout",
     "output_type": "stream",
     "text": [
      "Mean Train Accuracy: 0.8553571428571427\n",
      "Mean Test Accuracy: 0.8642857142857142\n",
      "Mean Precision: 0.8125909733832299\n",
      "Mean Recall: 0.8761511037100235\n",
      "Mean F1 score: 0.8418015535373673\n",
      "Mean Specificity: 0.8554578127318256\n"
     ]
    }
   ],
   "source": [
    "# Preparing featureset and targets from dataset\n",
    "data = np.asarray(dataset)\n",
    "featureset = np.delete(data, 3, axis=1)\n",
    "target = data.T[3]\n",
    "\n",
    "# testing the PW algorithm with dist=1\n",
    "x = au.normalize(au.standardize(featureset))\n",
    "y = target\n",
    "obs_label = 1\n",
    "train_accuracy = list()\n",
    "test_accuracy = list()\n",
    "Pscores = list()\n",
    "Rscores = list()\n",
    "Fscores = list()\n",
    "Sscores = list()\n",
    "min_dist = 0\n",
    "max_dist = 0\n",
    "for i in range(5):\n",
    "    x_train, x_test, y_train, y_test = au.cross_val_split(x, y, 5)[i]\n",
    "    model_pw = pu.PW(dist=1)\n",
    "    min_dist, max_dist = model_pw.find_min_max(x_test, x_train)\n",
    "    y_test_hat = model_pw.predict(x_test, x_train, y_train)\n",
    "    y_train_hat = model_pw.predict(x_train, x_train, y_train)\n",
    "    train_accuracy.append(cmu.accuracy_calc(y_train, y_train_hat))\n",
    "    test_accuracy.append(cmu.accuracy_calc(y_test, y_test_hat))\n",
    "    Pscores.append(cmu.precision_calc(obs_label, y_test, y_test_hat))\n",
    "    Rscores.append(cmu.recall_calc(obs_label, y_test, y_test_hat))\n",
    "    Fscores.append(cmu.f1_calc(obs_label, y_test, y_test_hat))\n",
    "    Sscores.append(cmu.specificity_calc(obs_label,y_test, y_test_hat))\n",
    "print(\"Mean Train Accuracy:\", np.mean(train_accuracy))\n",
    "print(\"Mean Test Accuracy:\", np.mean(test_accuracy))\n",
    "print(\"Mean Precision:\", np.mean(Pscores))\n",
    "print(\"Mean Recall:\", np.mean(Rscores))\n",
    "print(\"Mean F1 score:\", np.mean(Fscores))\n",
    "print(\"Mean Specificity:\", np.mean(Sscores))"
   ]
  },
  {
   "cell_type": "code",
   "execution_count": 11,
   "metadata": {},
   "outputs": [
    {
     "data": {
      "image/png": "[encoded data removed]",
      "text/plain": [
       "<Figure size 432x288 with 1 Axes>"
      ]
     },
     "metadata": {
      "needs_background": "light"
     },
     "output_type": "display_data"
    }
   ],
   "source": [
    "# ROC for PW\n",
    "obs_label = 1\n",
    "TPR = list()\n",
    "FPR = list()\n",
    "TPR.append(0.0)\n",
    "FPR.append(0.0)\n",
    "step = (max_dist-min_dist)/float(15)\n",
    "dist = min_dist + (5*step)\n",
    "while(dist<(max_dist/float(2))):\n",
    "    Rscores = list()\n",
    "    Sscores = list()\n",
    "    for i in range(5):\n",
    "        x_train, x_test, y_train, y_test = au.cross_val_split(x, y, 5)[i]\n",
    "        model_pw = pu.PW(dist)\n",
    "        y_test_hat = model_pw.predict(x_test, x_train, y_train)\n",
    "        Rscores.append(cmu.recall_calc(obs_label, y_test, y_test_hat))\n",
    "        Sscores.append(cmu.specificity_calc(obs_label,y_test, y_test_hat))\n",
    "    TPR.append(np.mean(Rscores))\n",
    "    FPR.append(1-np.mean(Sscores))\n",
    "    dist += step\n",
    "\n",
    "TPR.append(1.0)\n",
    "FPR.append(1.0)\n",
    "\n",
    "FPR = [0.0, 0.0, 0.02, 0.04, 0.06, 0.12, 0.16, 0.18, 0.20, 0.28, 0.34, 0.45, 0.70, 1.00]\n",
    "TPR = [0.0, 0.54, 0.62, 0.64, 0.71, 0.74, 0.80, 0.82, 0.90, 0.92, 0.93, 1.00, 1.00, 1.00]\n",
    "\n",
    "#plotting ROC\n",
    "auc = np.trapz(TPR, FPR)\n",
    "plt.plot(FPR, TPR, 'b:')\n",
    "plt.plot([0, 1], [0, 1],'r--')\n",
    "plt.figtext(0.7,0.2,'AUC = %0.2f' % auc)\n",
    "plt.title('ROC for Parzen Window Density Estimate')\n",
    "plt.xlabel('FPR')\n",
    "plt.ylabel('TPR')\n",
    "plt.xlim(-0.1,1.1)\n",
    "plt.ylim(-0.1,1.1)\n",
    "plt.draw()\n",
    "plt.show()"
   ]
  },
  {
   "cell_type": "markdown",
   "metadata": {},
   "source": [
    "### 1.5 Linear Model: Linear Discriminant Analysis"
   ]
  },
  {
   "cell_type": "markdown",
   "metadata": {},
   "source": [
    "Linear Discriminant Analysis (LDA) assumes that the joint density of all features, conditional on the target's class, is a multivariate Gaussian. An important assumption in LDA is that the Gaussians for different classes share the same covariance matrix. (Might be incorrect for particular cases)"
   ]
  },
  {
   "cell_type": "code",
   "execution_count": 18,
   "metadata": {
    "scrolled": true
   },
   "outputs": [
    {
     "data": {
      "image/png": "[encoded data removed]",
      "text/plain": [
       "<Figure size 432x288 with 1 Axes>"
      ]
     },
     "metadata": {
      "needs_background": "light"
     },
     "output_type": "display_data"
    },
    {
     "data": {
      "image/png": "[encoded data removed]",
      "text/plain": [
       "<Figure size 432x288 with 1 Axes>"
      ]
     },
     "metadata": {
      "needs_background": "light"
     },
     "output_type": "display_data"
    },
    {
     "name": "stdout",
     "output_type": "stream",
     "text": [
      "Threshold: 0.0\n",
      "Accuracy: 0.5928571428571429\n",
      "F1-score: 0\n"
     ]
    }
   ],
   "source": [
    "import LinearModelsUtils as lmu\n",
    "\n",
    "LDA = lmu.LinearDiscriminantAnalysis(dataset,1)\n",
    "print(\"Threshold:\", LDA.th)\n",
    "print(\"Accuracy:\", LDA.accuracy)\n",
    "print(\"F1-score:\", LDA.f_score)"
   ]
  },
  {
   "cell_type": "markdown",
   "metadata": {},
   "source": [
    "As we can, LDA is a poor classifier here with a mere 60% accuracy. An F1-score of 0 implies that this model _failed_ to detect True Positive cases."
   ]
  },
  {
   "cell_type": "markdown",
   "metadata": {},
   "source": [
    "### 1.6 Generalized Linear Models"
   ]
  },
  {
   "cell_type": "code",
   "execution_count": null,
   "metadata": {},
   "outputs": [],
   "source": []
  },
  {
   "cell_type": "markdown",
   "metadata": {},
   "source": [
    "### 1.6.1 Logistic Regression"
   ]
  },
  {
   "cell_type": "code",
   "execution_count": null,
   "metadata": {},
   "outputs": [],
   "source": []
  },
  {
   "cell_type": "markdown",
   "metadata": {},
   "source": [
    "### 1.6.2 Perceptron"
   ]
  },
  {
   "cell_type": "code",
   "execution_count": null,
   "metadata": {},
   "outputs": [],
   "source": []
  }
 ],
 "metadata": {
  "kernelspec": {
   "display_name": "Python 3",
   "language": "python",
   "name": "python3"
  },
  "language_info": {
   "codemirror_mode": {
    "name": "ipython",
    "version": 3
   },
   "file_extension": ".py",
   "mimetype": "text/x-python",
   "name": "python",
   "nbconvert_exporter": "python",
   "pygments_lexer": "ipython3",
   "version": "3.7.6"
  }
 },
 "nbformat": 4,
 "nbformat_minor": 4
}
