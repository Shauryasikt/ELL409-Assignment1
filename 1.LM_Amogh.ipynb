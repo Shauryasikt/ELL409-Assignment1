{
 "cells": [
  {
   "cell_type": "code",
   "execution_count": 1,
   "metadata": {},
   "outputs": [],
   "source": [
    "import numpy as np\n",
    "import pandas as pd\n",
    "import random\n",
    "from csv import reader\n",
    "from random import seed\n",
    "from random import randrange\n",
    "import sys, itertools\n",
    "import scipy.stats\n",
    "import matplotlib.pyplot as plt\n",
    "from Utils import LinearModelsUtils as lmu\n",
    "from Utils import CorrectnessMetricUtils as cmu\n",
    "from Utils import AuxUtils as auxu\n",
    "import Linear_Model as lm"
   ]
  },
  {
   "cell_type": "code",
   "execution_count": 2,
   "metadata": {},
   "outputs": [],
   "source": [
    "# Get CSV file\n",
    "def get_csv(filename):\n",
    "    dataset = list()\n",
    "    with open(filename, 'r') as file:\n",
    "        data = reader(file)\n",
    "        for row in data:\n",
    "            if not row:\n",
    "                continue\n",
    "            dataset.append(row)\n",
    "    return dataset\n",
    "\n",
    "# String to float columnwise\n",
    "def str_to_float_col(dataset, col):\n",
    "    for row in dataset:\n",
    "        row[col] = float(row[col].strip())"
   ]
  },
  {
   "cell_type": "code",
   "execution_count": 3,
   "metadata": {},
   "outputs": [
    {
     "data": {
      "image/png": "[encoded data removed]",
      "text/plain": [
       "<Figure size 432x288 with 1 Axes>"
      ]
     },
     "metadata": {
      "needs_background": "light"
     },
     "output_type": "display_data"
    },
    {
     "data": {
      "image/png": "[encoded data removed]",
      "text/plain": [
       "<Figure size 432x288 with 1 Axes>"
      ]
     },
     "metadata": {
      "needs_background": "light"
     },
     "output_type": "display_data"
    },
    {
     "name": "stdout",
     "output_type": "stream",
     "text": [
      "Threshold: 0.0\n",
      "Accuracy: 0.6071428571428571\n",
      "F1-score: 0\n"
     ]
    }
   ],
   "source": [
    "filename = 'bc.csv'\n",
    "dataset = get_csv(filename)\n",
    "dataset.remove(dataset[0])\n",
    "for i in range(len(dataset[0])):\n",
    "    str_to_float_col(dataset, i)\n",
    "LDA = lmu.LinearDiscriminantAnalysis(dataset,1)\n",
    "print(\"Threshold:\", LDA.th)\n",
    "print(\"Accuracy:\", LDA.accuracy)\n",
    "print(\"F1-score:\", LDA.f_score)"
   ]
  },
  {
   "cell_type": "code",
   "execution_count": 3,
   "metadata": {},
   "outputs": [],
   "source": [
    "seed(1)\n",
    "filename = 'data/binary_classification.csv'\n",
    "dataset = get_csv(filename)\n",
    "dataset.remove(dataset[0])\n",
    "for i in range(len(dataset[0])):\n",
    "    str_to_float_col(dataset, i)\n",
    "dataset = np.asarray(dataset)\n",
    "featureset = np.delete(dataset, 3, axis=1)\n",
    "target = dataset.T[3]"
   ]
  },
  {
   "cell_type": "code",
   "execution_count": 11,
   "metadata": {},
   "outputs": [
    {
     "name": "stdout",
     "output_type": "stream",
     "text": [
      "Running Logistic Regression with no regularization and with loss function: log\n",
      "A polynomial kernel of degree  2  is used to transform feature set\n",
      "Mean Train Accuracy: 0.8653571428571428\n",
      "Mean Test Accuracy: 0.8271428571428572\n",
      "Mean Precision: 0.8094250346700438\n",
      "Mean Recall: 0.8070219505190455\n",
      "Mean F1 score: 0.8016193830349634\n",
      "Mean Specificity: 0.851252344233059\n",
      "Running Logistic Regression with no regularization and with loss function: mse\n",
      "A polynomial kernel of degree  2  is used to transform feature set\n",
      "Mean Train Accuracy: 0.8596428571428572\n",
      "Mean Test Accuracy: 0.8414285714285714\n",
      "Mean Precision: 0.8088396836674626\n",
      "Mean Recall: 0.831878097028811\n",
      "Mean F1 score: 0.8178818208922014\n",
      "Mean Specificity: 0.8512261950589887\n",
      "Running Logistic Regression with no regularization and with loss function: mae\n",
      "A polynomial kernel of degree  2  is used to transform feature set\n",
      "Mean Train Accuracy: 0.6289285714285714\n",
      "Mean Test Accuracy: 0.6314285714285715\n",
      "Mean Precision: 0.9636363636363636\n",
      "Mean Recall: 0.17704918032786884\n",
      "Mean F1 score: 0.1700787401574803\n",
      "Mean Specificity: 0.969620253164557\n"
     ]
    }
   ],
   "source": [
    "# Logistic Regression Scores\n",
    "loss = [\"log\", \"mse\", \"mae\"]\n",
    "#loss = [\"log\"]\n",
    "x = featureset\n",
    "y = target\n",
    "#print (x.shape, y.shape)\n",
    "obs_label = 1\n",
    "for curr_loss in loss:\n",
    "    train_accuracy = list()\n",
    "    test_accuracy = list()\n",
    "    Pscores = list()\n",
    "    Rscores = list()\n",
    "    Fscores = list()\n",
    "    Sscores = list()\n",
    "    degree = 2\n",
    "    print (\"Running Logistic Regression with no regularization and with loss function:\", curr_loss)\n",
    "    print (\"A polynomial kernel of degree \", degree, \" is used to transform feature set\")\n",
    "    for i in range(5):\n",
    "        x_train, x_test, y_train, y_test = auxu.cross_val_split(x, y, 5)[i]\n",
    "        model = lm.LinearModel(regression_degree = degree, loss = curr_loss, print_stuff = \"none\", model_type = \"logistic\")\n",
    "        model.fit (x_train, y_train)\n",
    "        y_test_hat = model.log_predict(x_test)\n",
    "        y_train_hat = model.log_predict(x_train)\n",
    "        #print (y_train)\n",
    "        #print (y_train_hat)\n",
    "        train_accuracy.append(cmu.accuracy_calc(y_train, y_train_hat))\n",
    "        test_accuracy.append(cmu.accuracy_calc(y_test, y_test_hat))\n",
    "        Pscores.append(cmu.precision_calc(obs_label, y_test, y_test_hat))\n",
    "        Rscores.append(cmu.recall_calc(obs_label, y_test, y_test_hat))\n",
    "        Fscores.append(cmu.f1_calc(obs_label, y_test, y_test_hat))\n",
    "        Sscores.append(cmu.specificity_calc(obs_label,y_test, y_test_hat))\n",
    "    print(\"Mean Train Accuracy:\", np.mean(train_accuracy))\n",
    "    print(\"Mean Test Accuracy:\", np.mean(test_accuracy))\n",
    "    print(\"Mean Precision:\", np.mean(Pscores))\n",
    "    print(\"Mean Recall:\", np.mean(Rscores))\n",
    "    print(\"Mean F1 score:\", np.mean(Fscores))\n",
    "    print(\"Mean Specificity:\", np.mean(Sscores))"
   ]
  },
  {
   "cell_type": "code",
   "execution_count": null,
   "metadata": {},
   "outputs": [],
   "source": [
    "# Logistic Regression ROC\n",
    "x = featureset\n",
    "y = target\n",
    "obs_label = 1\n",
    "TPR = list()\n",
    "FPR = list()\n",
    "k = 1\n",
    "while(k<(len(dataset))/50):\n",
    "    Rscores = list()\n",
    "    Sscores = list()\n",
    "    for i in range(5):\n",
    "        x_train, x_test, y_train, y_test = auxu.cross_val_split(x, y, 5)[i]\n",
    "        model = lm.LinearModel(regression_degree = degree, loss = curr_loss, print_stuff = \"none\", model_type = \"logistic\")\n",
    "        model.fit (x_train, y_train)\n",
    "        y_test_hat = model.log_predict(x_test)\n",
    "        y_test_hat = model_knn.predict(x_test, x_train, y_train)\n",
    "        Rscores.append(cmu.recall_calc(obs_label, y_test, y_test_hat))\n",
    "        Sscores.append(cmu.specificity_calc(obs_label,y_test, y_test_hat))\n",
    "    TPR.append(np.mean(Rscores))\n",
    "    FPR.append(1-np.mean(Sscores))\n",
    "    k += 1\n",
    "\n",
    "#plotting ROC\n",
    "\n",
    "auc = np.trapz(TPR, FPR)\n",
    "plt.plot(FPR, TPR, 'b:')\n",
    "plt.plot([0, 1], [0, 1],'r--')\n",
    "plt.figtext(0.7,0.2,'AUC = %0.2f' % auc)\n",
    "plt.title('ROC for KNN')\n",
    "plt.xlabel('FPR')\n",
    "plt.ylabel('TPR')\n",
    "plt.xlim(-0.1,1.1)\n",
    "plt.ylim(-0.1,1.1)\n",
    "plt.draw()\n",
    "plt.show()"
   ]
  },
  {
   "cell_type": "code",
   "execution_count": 9,
   "metadata": {},
   "outputs": [
    {
     "name": "stdout",
     "output_type": "stream",
     "text": [
      "Running Logistic Regression with no regularization and with loss function: mae\n",
      "A polynomial kernel of degree  1  is used to transform feature set\n",
      "Mean Train Accuracy: 0.8478571428571428\n",
      "Mean Test Accuracy: 0.8757142857142857\n",
      "Mean Precision: 0.7825985585999458\n",
      "Mean Recall: 0.9800688161080668\n",
      "Mean F1 score: 0.8694704669093397\n",
      "Mean Specificity: 0.8000799332277142\n"
     ]
    }
   ],
   "source": [
    "# Logistic Regression Scores\n",
    "x = featureset\n",
    "y = target\n",
    "#print (x.shape, y.shape)\n",
    "obs_label = 1\n",
    "train_accuracy = list()\n",
    "test_accuracy = list()\n",
    "Pscores = list()\n",
    "Rscores = list()\n",
    "Fscores = list()\n",
    "Sscores = list()\n",
    "degree = 1\n",
    "print (\"Running Perceptron Regression with no regularization and with loss function:\", curr_loss)\n",
    "print (\"A polynomial kernel of degree \", degree, \" is used to transform feature set\")\n",
    "for i in range(5):\n",
    "    x_train, x_test, y_train, y_test = auxu.cross_val_split(x, y, 5)[i]\n",
    "    model2 = lm.LinearModel(regression_degree = degree, loss = curr_loss, print_stuff = \"none\", model_type = \"perceptron\")\n",
    "    model2.fit (x_train, y_train)\n",
    "    y_test_hat = model2.predict(x_test)\n",
    "    y_train_hat = model2.predict(x_train)\n",
    "    #print (y_train)\n",
    "    #print (y_train_hat)\n",
    "    train_accuracy.append(cmu.accuracy_calc(y_train, y_train_hat))\n",
    "    test_accuracy.append(cmu.accuracy_calc(y_test, y_test_hat))\n",
    "    Pscores.append(cmu.precision_calc(obs_label, y_test, y_test_hat))\n",
    "    Rscores.append(cmu.recall_calc(obs_label, y_test, y_test_hat))\n",
    "    Fscores.append(cmu.f1_calc(obs_label, y_test, y_test_hat))\n",
    "    Sscores.append(cmu.specificity_calc(obs_label,y_test, y_test_hat))\n",
    "print(\"Mean Train Accuracy:\", np.mean(train_accuracy))\n",
    "print(\"Mean Test Accuracy:\", np.mean(test_accuracy))\n",
    "print(\"Mean Precision:\", np.mean(Pscores))\n",
    "print(\"Mean Recall:\", np.mean(Rscores))\n",
    "print(\"Mean F1 score:\", np.mean(Fscores))\n",
    "print(\"Mean Specificity:\", np.mean(Sscores))"
   ]
  },
  {
   "cell_type": "code",
   "execution_count": null,
   "metadata": {},
   "outputs": [],
   "source": []
  }
 ],
 "metadata": {
  "kernelspec": {
   "display_name": "Python 3",
   "language": "python",
   "name": "python3"
  },
  "language_info": {
   "codemirror_mode": {
    "name": "ipython",
    "version": 3
   },
   "file_extension": ".py",
   "mimetype": "text/x-python",
   "name": "python",
   "nbconvert_exporter": "python",
   "pygments_lexer": "ipython3",
   "version": "3.8.5"
  }
 },
 "nbformat": 4,
 "nbformat_minor": 4
}
